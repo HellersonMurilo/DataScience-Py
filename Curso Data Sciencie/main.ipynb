{
 "cells": [
  {
   "cell_type": "markdown",
   "id": "6c65353e",
   "metadata": {},
   "source": [
    "## Importação das bibliotecas básicas"
   ]
  },
  {
   "cell_type": "code",
   "execution_count": null,
   "id": "fe68b21b",
   "metadata": {},
   "outputs": [],
   "source": [
    "%pip install plotly --upgrade\n",
    "%pip install seaborn"
   ]
  },
  {
   "cell_type": "code",
   "execution_count": null,
   "id": "58085e03",
   "metadata": {},
   "outputs": [],
   "source": [
    "import pandas as pd\n",
    "import numpy as np\n",
    "import seaborn as sns\n",
    "import matplotlib.pyplot as plt\n",
    "import plotly.express as px\n",
    "import plotly.io as pio"
   ]
  },
  {
   "cell_type": "markdown",
   "id": "f390851c",
   "metadata": {},
   "source": [
    "## Exploração dos Dados"
   ]
  },
  {
   "cell_type": "code",
   "execution_count": null,
   "id": "f11b7b16",
   "metadata": {},
   "outputs": [],
   "source": [
    "#Ler arquivo CSV usando pandas\n",
    "base_credit = pd.read_csv('data/credit_risk_dataset.csv') #loan_status - Emprestimo | person_income - Renda"
   ]
  },
  {
   "cell_type": "code",
   "execution_count": null,
   "id": "85177e08",
   "metadata": {},
   "outputs": [],
   "source": [
    "#head - ver os primeiros\n",
    "#tail - ver os ultimos\n",
    "base_credit.head(10)\n",
    "base_credit.tail()"
   ]
  },
  {
   "cell_type": "code",
   "execution_count": null,
   "id": "a687d654",
   "metadata": {},
   "outputs": [],
   "source": [
    "#describe - traz um resumo dos dados\n",
    "base_credit.describe()"
   ]
  },
  {
   "cell_type": "code",
   "execution_count": null,
   "id": "f876fdec",
   "metadata": {},
   "outputs": [],
   "source": [
    "# podemos aplicar filtros para trazer os dados que desejamos, por exemplo as pessoas que ganham salarios acima de X:\n",
    "base_credit[base_credit[\"person_income\"] >= 27.734600]"
   ]
  },
  {
   "cell_type": "markdown",
   "id": "a9087d32",
   "metadata": {},
   "source": [
    "## Visualização dos dados"
   ]
  },
  {
   "cell_type": "code",
   "execution_count": null,
   "id": "ea790b16",
   "metadata": {},
   "outputs": [],
   "source": [
    "#Unique - Conta os valores unicos | return_count - Retorna a contagem de cada caso\n",
    "np.unique(base_credit['loan_status'], return_counts=True)"
   ]
  },
  {
   "cell_type": "code",
   "execution_count": null,
   "id": "f35d62a8",
   "metadata": {},
   "outputs": [],
   "source": [
    "# countplot - traz um grafico trazendo a contagem\n",
    "sns.countplot(x=base_credit[\"loan_status\"])"
   ]
  },
  {
   "cell_type": "code",
   "execution_count": null,
   "id": "447d17c5",
   "metadata": {},
   "outputs": [],
   "source": [
    "plt.hist(x = base_credit['person_age']);"
   ]
  },
  {
   "cell_type": "code",
   "execution_count": null,
   "id": "e80e3c7a",
   "metadata": {},
   "outputs": [],
   "source": [
    "plt.hist(x = base_credit['loan_amnt']);"
   ]
  },
  {
   "cell_type": "code",
   "execution_count": null,
   "id": "627f75e7",
   "metadata": {},
   "outputs": [],
   "source": [
    "# Cria uma matriz de dispersão (scatter matrix) utilizando as colunas 'person_age', 'person_income' e 'loan_amnt'\n",
    "# Cada ponto é colorido de acordo com o status do empréstimo ('loan_status')\n",
    "# Esse tipo de gráfico ajuda a visualizar possíveis correlações entre as variáveis numéricas\n",
    "grafico = px.scatter_matrix(base_credit, dimensions=['person_age', 'person_income', 'loan_amnt'], color= 'loan_status')\n"
   ]
  }
 ],
 "metadata": {
  "kernelspec": {
   "display_name": "Python 3",
   "language": "python",
   "name": "python3"
  },
  "language_info": {
   "codemirror_mode": {
    "name": "ipython",
    "version": 3
   },
   "file_extension": ".py",
   "mimetype": "text/x-python",
   "name": "python",
   "nbconvert_exporter": "python",
   "pygments_lexer": "ipython3",
   "version": "3.12.2"
  }
 },
 "nbformat": 4,
 "nbformat_minor": 5
}
