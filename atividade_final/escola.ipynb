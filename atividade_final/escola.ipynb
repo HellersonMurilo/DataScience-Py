{
 "cells": [
  {
   "cell_type": "code",
   "execution_count": 61,
   "id": "9ca59e6c",
   "metadata": {},
   "outputs": [],
   "source": [
    "import pandas as pd"
   ]
  },
  {
   "cell_type": "markdown",
   "id": "52c496a0",
   "metadata": {},
   "source": [
    "- **Carregar e visualizar dados**\n",
    "    - Ler o CSV e mostrar as 5 primeiras linhas.\n",
    "    - Mostrar informações gerais (`info()`) e resumo estatístico (`describe()`)."
   ]
  },
  {
   "cell_type": "code",
   "execution_count": 62,
   "id": "9a5ac2b8",
   "metadata": {},
   "outputs": [
    {
     "data": {
      "text/html": [
       "<div>\n",
       "<style scoped>\n",
       "    .dataframe tbody tr th:only-of-type {\n",
       "        vertical-align: middle;\n",
       "    }\n",
       "\n",
       "    .dataframe tbody tr th {\n",
       "        vertical-align: top;\n",
       "    }\n",
       "\n",
       "    .dataframe thead th {\n",
       "        text-align: right;\n",
       "    }\n",
       "</style>\n",
       "<table border=\"1\" class=\"dataframe\">\n",
       "  <thead>\n",
       "    <tr style=\"text-align: right;\">\n",
       "      <th></th>\n",
       "      <th>ID_Aluno</th>\n",
       "      <th>Nome</th>\n",
       "      <th>Idade</th>\n",
       "      <th>Ano_Serie</th>\n",
       "      <th>Nota</th>\n",
       "    </tr>\n",
       "  </thead>\n",
       "  <tbody>\n",
       "    <tr>\n",
       "      <th>0</th>\n",
       "      <td>1</td>\n",
       "      <td>Ana</td>\n",
       "      <td>11</td>\n",
       "      <td>2º</td>\n",
       "      <td>4.7</td>\n",
       "    </tr>\n",
       "    <tr>\n",
       "      <th>1</th>\n",
       "      <td>2</td>\n",
       "      <td>Bruno</td>\n",
       "      <td>6</td>\n",
       "      <td>7º</td>\n",
       "      <td>8.0</td>\n",
       "    </tr>\n",
       "    <tr>\n",
       "      <th>2</th>\n",
       "      <td>3</td>\n",
       "      <td>Carla</td>\n",
       "      <td>9</td>\n",
       "      <td>8º</td>\n",
       "      <td>5.2</td>\n",
       "    </tr>\n",
       "    <tr>\n",
       "      <th>3</th>\n",
       "      <td>4</td>\n",
       "      <td>Diego</td>\n",
       "      <td>17</td>\n",
       "      <td>8º</td>\n",
       "      <td>6.8</td>\n",
       "    </tr>\n",
       "    <tr>\n",
       "      <th>4</th>\n",
       "      <td>5</td>\n",
       "      <td>Eduarda</td>\n",
       "      <td>9</td>\n",
       "      <td>9º</td>\n",
       "      <td>7.2</td>\n",
       "    </tr>\n",
       "  </tbody>\n",
       "</table>\n",
       "</div>"
      ],
      "text/plain": [
       "   ID_Aluno     Nome  Idade Ano_Serie  Nota\n",
       "0         1      Ana     11        2º   4.7\n",
       "1         2    Bruno      6        7º   8.0\n",
       "2         3    Carla      9        8º   5.2\n",
       "3         4    Diego     17        8º   6.8\n",
       "4         5  Eduarda      9        9º   7.2"
      ]
     },
     "execution_count": 62,
     "metadata": {},
     "output_type": "execute_result"
    }
   ],
   "source": [
    "arquivo = pd.read_csv('./dados_aula_escola.csv')\n",
    "arquivo.head(5)"
   ]
  },
  {
   "cell_type": "code",
   "execution_count": 63,
   "id": "9b8aca3f",
   "metadata": {},
   "outputs": [
    {
     "name": "stdout",
     "output_type": "stream",
     "text": [
      "<class 'pandas.core.frame.DataFrame'>\n",
      "RangeIndex: 15 entries, 0 to 14\n",
      "Data columns (total 5 columns):\n",
      " #   Column     Non-Null Count  Dtype  \n",
      "---  ------     --------------  -----  \n",
      " 0   ID_Aluno   15 non-null     int64  \n",
      " 1   Nome       15 non-null     object \n",
      " 2   Idade      15 non-null     int64  \n",
      " 3   Ano_Serie  15 non-null     object \n",
      " 4   Nota       15 non-null     float64\n",
      "dtypes: float64(1), int64(2), object(2)\n",
      "memory usage: 732.0+ bytes\n"
     ]
    }
   ],
   "source": [
    "arquivo_info = pd.read_csv('./dados_aula_escola.csv')\n",
    "arquivo.info()"
   ]
  },
  {
   "cell_type": "code",
   "execution_count": 64,
   "id": "8195fbb7",
   "metadata": {},
   "outputs": [
    {
     "data": {
      "text/html": [
       "<div>\n",
       "<style scoped>\n",
       "    .dataframe tbody tr th:only-of-type {\n",
       "        vertical-align: middle;\n",
       "    }\n",
       "\n",
       "    .dataframe tbody tr th {\n",
       "        vertical-align: top;\n",
       "    }\n",
       "\n",
       "    .dataframe thead th {\n",
       "        text-align: right;\n",
       "    }\n",
       "</style>\n",
       "<table border=\"1\" class=\"dataframe\">\n",
       "  <thead>\n",
       "    <tr style=\"text-align: right;\">\n",
       "      <th></th>\n",
       "      <th>ID_Aluno</th>\n",
       "      <th>Idade</th>\n",
       "      <th>Nota</th>\n",
       "    </tr>\n",
       "  </thead>\n",
       "  <tbody>\n",
       "    <tr>\n",
       "      <th>count</th>\n",
       "      <td>15.000000</td>\n",
       "      <td>15.000000</td>\n",
       "      <td>15.000000</td>\n",
       "    </tr>\n",
       "    <tr>\n",
       "      <th>mean</th>\n",
       "      <td>8.000000</td>\n",
       "      <td>11.400000</td>\n",
       "      <td>5.000000</td>\n",
       "    </tr>\n",
       "    <tr>\n",
       "      <th>std</th>\n",
       "      <td>4.472136</td>\n",
       "      <td>2.971291</td>\n",
       "      <td>2.641969</td>\n",
       "    </tr>\n",
       "    <tr>\n",
       "      <th>min</th>\n",
       "      <td>1.000000</td>\n",
       "      <td>6.000000</td>\n",
       "      <td>1.100000</td>\n",
       "    </tr>\n",
       "    <tr>\n",
       "      <th>25%</th>\n",
       "      <td>4.500000</td>\n",
       "      <td>9.000000</td>\n",
       "      <td>2.700000</td>\n",
       "    </tr>\n",
       "    <tr>\n",
       "      <th>50%</th>\n",
       "      <td>8.000000</td>\n",
       "      <td>11.000000</td>\n",
       "      <td>5.200000</td>\n",
       "    </tr>\n",
       "    <tr>\n",
       "      <th>75%</th>\n",
       "      <td>11.500000</td>\n",
       "      <td>13.500000</td>\n",
       "      <td>7.000000</td>\n",
       "    </tr>\n",
       "    <tr>\n",
       "      <th>max</th>\n",
       "      <td>15.000000</td>\n",
       "      <td>17.000000</td>\n",
       "      <td>10.000000</td>\n",
       "    </tr>\n",
       "  </tbody>\n",
       "</table>\n",
       "</div>"
      ],
      "text/plain": [
       "        ID_Aluno      Idade       Nota\n",
       "count  15.000000  15.000000  15.000000\n",
       "mean    8.000000  11.400000   5.000000\n",
       "std     4.472136   2.971291   2.641969\n",
       "min     1.000000   6.000000   1.100000\n",
       "25%     4.500000   9.000000   2.700000\n",
       "50%     8.000000  11.000000   5.200000\n",
       "75%    11.500000  13.500000   7.000000\n",
       "max    15.000000  17.000000  10.000000"
      ]
     },
     "execution_count": 64,
     "metadata": {},
     "output_type": "execute_result"
    }
   ],
   "source": [
    "arquivo_describe = pd.read_csv('./dados_aula_escola.csv')\n",
    "arquivo_describe.describe()"
   ]
  },
  {
   "cell_type": "markdown",
   "id": "53996a5e",
   "metadata": {},
   "source": [
    "- **Filtros e consultas**\n",
    "    - Alunos com nota acima de 7.\n",
    "    - Nome e nota dos alunos do 9º ano.\n",
    "    - Quantidade de alunos com idade ≥ 14.\n",
    "    - Alunos com idade < 10 e nota < 5."
   ]
  },
  {
   "cell_type": "code",
   "execution_count": 65,
   "id": "40f6099c",
   "metadata": {},
   "outputs": [
    {
     "data": {
      "text/html": [
       "<div>\n",
       "<style scoped>\n",
       "    .dataframe tbody tr th:only-of-type {\n",
       "        vertical-align: middle;\n",
       "    }\n",
       "\n",
       "    .dataframe tbody tr th {\n",
       "        vertical-align: top;\n",
       "    }\n",
       "\n",
       "    .dataframe thead th {\n",
       "        text-align: right;\n",
       "    }\n",
       "</style>\n",
       "<table border=\"1\" class=\"dataframe\">\n",
       "  <thead>\n",
       "    <tr style=\"text-align: right;\">\n",
       "      <th></th>\n",
       "      <th>ID_Aluno</th>\n",
       "      <th>Nome</th>\n",
       "      <th>Idade</th>\n",
       "      <th>Ano_Serie</th>\n",
       "      <th>Nota</th>\n",
       "    </tr>\n",
       "  </thead>\n",
       "  <tbody>\n",
       "    <tr>\n",
       "      <th>1</th>\n",
       "      <td>2</td>\n",
       "      <td>Bruno</td>\n",
       "      <td>6</td>\n",
       "      <td>7º</td>\n",
       "      <td>8.0</td>\n",
       "    </tr>\n",
       "    <tr>\n",
       "      <th>4</th>\n",
       "      <td>5</td>\n",
       "      <td>Eduarda</td>\n",
       "      <td>9</td>\n",
       "      <td>9º</td>\n",
       "      <td>7.2</td>\n",
       "    </tr>\n",
       "    <tr>\n",
       "      <th>7</th>\n",
       "      <td>8</td>\n",
       "      <td>Henrique</td>\n",
       "      <td>9</td>\n",
       "      <td>9º</td>\n",
       "      <td>10.0</td>\n",
       "    </tr>\n",
       "    <tr>\n",
       "      <th>11</th>\n",
       "      <td>12</td>\n",
       "      <td>Lucas</td>\n",
       "      <td>13</td>\n",
       "      <td>4º</td>\n",
       "      <td>7.4</td>\n",
       "    </tr>\n",
       "  </tbody>\n",
       "</table>\n",
       "</div>"
      ],
      "text/plain": [
       "    ID_Aluno      Nome  Idade Ano_Serie  Nota\n",
       "1          2     Bruno      6        7º   8.0\n",
       "4          5   Eduarda      9        9º   7.2\n",
       "7          8  Henrique      9        9º  10.0\n",
       "11        12     Lucas     13        4º   7.4"
      ]
     },
     "metadata": {},
     "output_type": "display_data"
    }
   ],
   "source": [
    "# - Alunos com nota acima de 7.\n",
    "df = pd.read_csv('./dados_aula_escola.csv')\n",
    "notas_acima_7 = df[df[\"Nota\"] > 7 ]\n",
    "display(notas_acima_7)"
   ]
  },
  {
   "cell_type": "code",
   "execution_count": 66,
   "id": "23037df8",
   "metadata": {},
   "outputs": [
    {
     "name": "stdout",
     "output_type": "stream",
     "text": [
      "       Nome  Nota\n",
      "4   Eduarda   7.2\n",
      "7  Henrique  10.0\n"
     ]
    }
   ],
   "source": [
    "# Nome e nota dos alunos do 9º ano.\n",
    "alunos_nono = df[df[\"Ano_Serie\"] == '9º']\n",
    "nome_aluno = alunos_nono[[\"Nome\", \"Nota\"]]\n",
    "print(nome_aluno)"
   ]
  },
  {
   "cell_type": "code",
   "execution_count": 67,
   "id": "680c62c4",
   "metadata": {},
   "outputs": [
    {
     "name": "stdout",
     "output_type": "stream",
     "text": [
      "Quantidade de alunos com idade igual ou maior que 14:  4\n",
      "Alunos: \n",
      "Nome: Diego, Nota: 6.8, Idade: 17\n",
      "Nome: Gabriela, Nota: 5.4, Idade: 15\n",
      "Nome: Nicolas, Nota: 1.4, Idade: 14\n",
      "Nome: Olivia, Nota: 3.2, Idade: 14\n"
     ]
    }
   ],
   "source": [
    "#- Quantidade de alunos com idade ≥ 14.\n",
    "df_alunos = df[df['Idade'] >= 14]\n",
    "qtd_alunos = len(df_alunos['Idade'])\n",
    "\n",
    "print('Quantidade de alunos com idade igual ou maior que 14: ', qtd_alunos)\n",
    "print('Alunos: ')\n",
    "for _, row in df_alunos.iterrows():\n",
    "    nome = row['Nome']\n",
    "    idade = row['Idade']\n",
    "    nota = row['Nota']\n",
    "    print(f\"Nome: {nome}, Nota: {nota}, Idade: {idade}\")"
   ]
  },
  {
   "cell_type": "code",
   "execution_count": 68,
   "id": "f397e1ce",
   "metadata": {},
   "outputs": [
    {
     "name": "stdout",
     "output_type": "stream",
     "text": [
      "Alunos com nota menor que 5 e idade menor que 10: \n",
      "Nome: João, Nota: 4.7, Idade: 8\n"
     ]
    }
   ],
   "source": [
    "#Alunos com idade < 10 e nota < 5.\n",
    "df_alunos = df[(df[\"Idade\"] < 10) & (df[\"Nota\"] < 5)]\n",
    "\n",
    "# Iterando sobre as linhas do DataFrame (iterrows)\n",
    "print(\"Alunos com nota menor que 5 e idade menor que 10: \")\n",
    "\n",
    "for _, row in df_alunos.iterrows():\n",
    "    nome = row['Nome']\n",
    "    idade = row['Idade']\n",
    "    nota = row['Nota']\n",
    "    print(f\"Nome: {nome}, Nota: {nota}, Idade: {idade}\")\n"
   ]
  },
  {
   "cell_type": "markdown",
   "id": "d2a95ef6",
   "metadata": {},
   "source": [
    "- **Agrupamentos e estatísticas**\n",
    "    - Média das notas por série.\n",
    "    - Série com maior média de notas.\n",
    "    - Idade média de alunos com nota > 8."
   ]
  },
  {
   "cell_type": "code",
   "execution_count": 69,
   "id": "a948db49",
   "metadata": {},
   "outputs": [
    {
     "data": {
      "text/plain": [
       "Ano_Serie\n",
       "1º    1.65\n",
       "2º    5.25\n",
       "3º    3.20\n",
       "4º    6.05\n",
       "5º    1.10\n",
       "6º    3.80\n",
       "7º    8.00\n",
       "8º    6.00\n",
       "9º    8.60\n",
       "Name: Nota, dtype: float64"
      ]
     },
     "metadata": {},
     "output_type": "display_data"
    }
   ],
   "source": [
    "#Média das notas por série.\n",
    "media_notas = df.groupby('Ano_Serie')['Nota'].mean()\n",
    "display(media_notas)"
   ]
  },
  {
   "cell_type": "code",
   "execution_count": 70,
   "id": "3b82220c",
   "metadata": {},
   "outputs": [
    {
     "name": "stdout",
     "output_type": "stream",
     "text": [
      "A serie com a maior média é: 9º\n"
     ]
    }
   ],
   "source": [
    "#Série com maior média de notas.\n",
    "serie_maior_media = df.groupby('Ano_Serie')['Nota'].mean().idxmax()\n",
    "print(f'A serie com a maior média é: {serie_maior_media}')"
   ]
  },
  {
   "cell_type": "code",
   "execution_count": null,
   "id": "9277b064",
   "metadata": {},
   "outputs": [
    {
     "name": "stdout",
     "output_type": "stream",
     "text": [
      "9.0\n"
     ]
    }
   ],
   "source": [
    "#Idade média de alunos com nota > 8.\n",
    "\n",
    "# Filtrando alunos com nota > 8\n",
    "df_filtrado = df[df['Nota'] > 8.0]\n",
    "\n",
    "# Calculando a idade média desses alunos\n",
    "idade_media = df_filtrado['Idade'].mean()\n",
    "\n",
    "print(idade_media)\n"
   ]
  },
  {
   "cell_type": "markdown",
   "id": "f0c42339",
   "metadata": {},
   "source": [
    "- **Ordenação**\n",
    "    - Alunos em ordem decrescente de nota.\n",
    "    - Alunos mais novos primeiro e, em caso de empate, por nota."
   ]
  },
  {
   "cell_type": "code",
   "execution_count": 77,
   "id": "891e8bba",
   "metadata": {},
   "outputs": [
    {
     "data": {
      "text/html": [
       "<div>\n",
       "<style scoped>\n",
       "    .dataframe tbody tr th:only-of-type {\n",
       "        vertical-align: middle;\n",
       "    }\n",
       "\n",
       "    .dataframe tbody tr th {\n",
       "        vertical-align: top;\n",
       "    }\n",
       "\n",
       "    .dataframe thead th {\n",
       "        text-align: right;\n",
       "    }\n",
       "</style>\n",
       "<table border=\"1\" class=\"dataframe\">\n",
       "  <thead>\n",
       "    <tr style=\"text-align: right;\">\n",
       "      <th></th>\n",
       "      <th>ID_Aluno</th>\n",
       "      <th>Nome</th>\n",
       "      <th>Idade</th>\n",
       "      <th>Ano_Serie</th>\n",
       "      <th>Nota</th>\n",
       "    </tr>\n",
       "  </thead>\n",
       "  <tbody>\n",
       "    <tr>\n",
       "      <th>7</th>\n",
       "      <td>8</td>\n",
       "      <td>Henrique</td>\n",
       "      <td>9</td>\n",
       "      <td>9º</td>\n",
       "      <td>10.0</td>\n",
       "    </tr>\n",
       "    <tr>\n",
       "      <th>1</th>\n",
       "      <td>2</td>\n",
       "      <td>Bruno</td>\n",
       "      <td>6</td>\n",
       "      <td>7º</td>\n",
       "      <td>8.0</td>\n",
       "    </tr>\n",
       "    <tr>\n",
       "      <th>11</th>\n",
       "      <td>12</td>\n",
       "      <td>Lucas</td>\n",
       "      <td>13</td>\n",
       "      <td>4º</td>\n",
       "      <td>7.4</td>\n",
       "    </tr>\n",
       "    <tr>\n",
       "      <th>4</th>\n",
       "      <td>5</td>\n",
       "      <td>Eduarda</td>\n",
       "      <td>9</td>\n",
       "      <td>9º</td>\n",
       "      <td>7.2</td>\n",
       "    </tr>\n",
       "    <tr>\n",
       "      <th>3</th>\n",
       "      <td>4</td>\n",
       "      <td>Diego</td>\n",
       "      <td>17</td>\n",
       "      <td>8º</td>\n",
       "      <td>6.8</td>\n",
       "    </tr>\n",
       "    <tr>\n",
       "      <th>5</th>\n",
       "      <td>6</td>\n",
       "      <td>Felipe</td>\n",
       "      <td>13</td>\n",
       "      <td>2º</td>\n",
       "      <td>5.8</td>\n",
       "    </tr>\n",
       "    <tr>\n",
       "      <th>6</th>\n",
       "      <td>7</td>\n",
       "      <td>Gabriela</td>\n",
       "      <td>15</td>\n",
       "      <td>6º</td>\n",
       "      <td>5.4</td>\n",
       "    </tr>\n",
       "    <tr>\n",
       "      <th>2</th>\n",
       "      <td>3</td>\n",
       "      <td>Carla</td>\n",
       "      <td>9</td>\n",
       "      <td>8º</td>\n",
       "      <td>5.2</td>\n",
       "    </tr>\n",
       "    <tr>\n",
       "      <th>0</th>\n",
       "      <td>1</td>\n",
       "      <td>Ana</td>\n",
       "      <td>11</td>\n",
       "      <td>2º</td>\n",
       "      <td>4.7</td>\n",
       "    </tr>\n",
       "    <tr>\n",
       "      <th>9</th>\n",
       "      <td>10</td>\n",
       "      <td>João</td>\n",
       "      <td>8</td>\n",
       "      <td>4º</td>\n",
       "      <td>4.7</td>\n",
       "    </tr>\n",
       "    <tr>\n",
       "      <th>14</th>\n",
       "      <td>15</td>\n",
       "      <td>Olivia</td>\n",
       "      <td>14</td>\n",
       "      <td>3º</td>\n",
       "      <td>3.2</td>\n",
       "    </tr>\n",
       "    <tr>\n",
       "      <th>12</th>\n",
       "      <td>13</td>\n",
       "      <td>Mariana</td>\n",
       "      <td>12</td>\n",
       "      <td>6º</td>\n",
       "      <td>2.2</td>\n",
       "    </tr>\n",
       "    <tr>\n",
       "      <th>10</th>\n",
       "      <td>11</td>\n",
       "      <td>Karen</td>\n",
       "      <td>10</td>\n",
       "      <td>1º</td>\n",
       "      <td>1.9</td>\n",
       "    </tr>\n",
       "    <tr>\n",
       "      <th>13</th>\n",
       "      <td>14</td>\n",
       "      <td>Nicolas</td>\n",
       "      <td>14</td>\n",
       "      <td>1º</td>\n",
       "      <td>1.4</td>\n",
       "    </tr>\n",
       "    <tr>\n",
       "      <th>8</th>\n",
       "      <td>9</td>\n",
       "      <td>Isabela</td>\n",
       "      <td>11</td>\n",
       "      <td>5º</td>\n",
       "      <td>1.1</td>\n",
       "    </tr>\n",
       "  </tbody>\n",
       "</table>\n",
       "</div>"
      ],
      "text/plain": [
       "    ID_Aluno      Nome  Idade Ano_Serie  Nota\n",
       "7          8  Henrique      9        9º  10.0\n",
       "1          2     Bruno      6        7º   8.0\n",
       "11        12     Lucas     13        4º   7.4\n",
       "4          5   Eduarda      9        9º   7.2\n",
       "3          4     Diego     17        8º   6.8\n",
       "5          6    Felipe     13        2º   5.8\n",
       "6          7  Gabriela     15        6º   5.4\n",
       "2          3     Carla      9        8º   5.2\n",
       "0          1       Ana     11        2º   4.7\n",
       "9         10      João      8        4º   4.7\n",
       "14        15    Olivia     14        3º   3.2\n",
       "12        13   Mariana     12        6º   2.2\n",
       "10        11     Karen     10        1º   1.9\n",
       "13        14   Nicolas     14        1º   1.4\n",
       "8          9   Isabela     11        5º   1.1"
      ]
     },
     "metadata": {},
     "output_type": "display_data"
    }
   ],
   "source": [
    "#Alunos em ordem decrescente de nota\n",
    "df_ordenado = df.sort_values(by='Nota', ascending=False)\n",
    "\n",
    "display(df_ordenado)"
   ]
  },
  {
   "cell_type": "code",
   "execution_count": null,
   "id": "f1db5e74",
   "metadata": {},
   "outputs": [],
   "source": [
    "#Alunos mais novos primeiro e, em caso de empate, por nota.\n"
   ]
  },
  {
   "cell_type": "markdown",
   "id": "05daced1",
   "metadata": {},
   "source": [
    "- **Manipulação de colunas**\n",
    "    - Adicionar coluna \"Situação\" (Aprovado/Reprovado).\n",
    "    - Alunos aprovados no 7º ano."
   ]
  },
  {
   "cell_type": "markdown",
   "id": "92cd683f",
   "metadata": {},
   "source": [
    "- **Desafios extras**\n",
    "    - Maior nota e quem tirou.\n",
    "    - Quantidade de alunos por série.\n",
    "    - Gráfico de barras da média de notas por série."
   ]
  }
 ],
 "metadata": {
  "kernelspec": {
   "display_name": "Python 3",
   "language": "python",
   "name": "python3"
  },
  "language_info": {
   "codemirror_mode": {
    "name": "ipython",
    "version": 3
   },
   "file_extension": ".py",
   "mimetype": "text/x-python",
   "name": "python",
   "nbconvert_exporter": "python",
   "pygments_lexer": "ipython3",
   "version": "3.13.5"
  }
 },
 "nbformat": 4,
 "nbformat_minor": 5
}
